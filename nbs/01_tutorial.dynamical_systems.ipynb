{
 "cells": [
  {
   "cell_type": "markdown",
   "id": "f8511e5d-2940-487b-a45e-9b32fc82d9c9",
   "metadata": {},
   "source": [
    "# Dynamical systems\n",
    "> Using `pydrake` to construct dynamical systems."
   ]
  },
  {
   "cell_type": "code",
   "execution_count": null,
   "id": "185e715f-4c30-4555-aa2d-8793a2b4bd53",
   "metadata": {},
   "outputs": [],
   "source": [
    "import numpy as np\n",
    "from pydrake.common.containers import namedview\n",
    "from pydrake.systems.framework import BasicVector, LeafSystem\n",
    "from pydrake.systems.analysis import Simulator"
   ]
  },
  {
   "cell_type": "markdown",
   "id": "82cef810-e7a0-4606-abd4-2884f2f8a609",
   "metadata": {},
   "source": [
    "This tutorial provides a basic guide to construct a dynamical system with `pydrake`'s modeling capability.\n",
    "\n",
    "__refs__:\n",
    "\n",
    "- [dynamical_systems|official tutorial](https://deepnote.com/workspace/Drake-0b3b2c53-a7ad-441b-80f8-bf8350752305/project/Tutorials-2b4fc509-aef2-417d-a40d-6071dfed9199/notebook/dynamical_systems-28cb718798964f66a125eef7b3b29776)\n",
    "- [LeafSystem|offical tutorial](https://deepnote.com/workspace/Drake-0b3b2c53-a7ad-441b-80f8-bf8350752305/project/Tutorials-2b4fc509-aef2-417d-a40d-6071dfed9199/notebook/authoring_leaf_systems-1638fb4a2fd9422f96b607171780e3c0)\n",
    "- [diagram|official tutorial](https://deepnote.com/workspace/Drake-0b3b2c53-a7ad-441b-80f8-bf8350752305/project/Tutorials-2b4fc509-aef2-417d-a40d-6071dfed9199/notebook/working_with_diagrams-9efa8c3ef4244ac8bc69643ef2a75480)"
   ]
  },
  {
   "cell_type": "markdown",
   "id": "9a570e6b-cfa5-4a39-8d46-41de0d71cc2e",
   "metadata": {},
   "source": [
    "## System"
   ]
  },
  {
   "cell_type": "markdown",
   "id": "1161963b-6864-4249-9031-21cecf3d6d4e",
   "metadata": {},
   "source": [
    "In `pydrake` and engineering, a _system_ is an abstraction consisting:\n",
    "\n",
    "- input/ouput ports\n",
    "- state\n",
    "- parameters\n",
    "\n",
    "```{mermaid}\n",
    "graph LR\n",
    "I[\"input1\\ninput2\\n...\"]\n",
    "O[\"output1\\noutput2\\n...\"]\n",
    "\n",
    "S[\"state;\\nparameters\"]\n",
    "I-->S\n",
    "S-->O\n",
    "```\n",
    "\n",
    "`pydrake` provides [a rich set of systems](https://drake.mit.edu/pydrake/pydrake.systems.primitives.html). We can also define our own dynamical systems deriving from the `LeafSystem` class.\n",
    "\n",
    "::: {.callout-note appearance='simple'}\n",
    "`pydrake` supports both numeric and _symbolic_ variables, however, we will omit the symbolic case in this tutorial.\n",
    ":::"
   ]
  },
  {
   "cell_type": "markdown",
   "id": "6fec9e60-2a0a-4c0b-a336-330e309119fc",
   "metadata": {},
   "source": [
    "### I/O ports"
   ]
  },
  {
   "cell_type": "code",
   "execution_count": null,
   "id": "70e7d80c-3220-439a-875a-a629d28485fe",
   "metadata": {},
   "outputs": [],
   "source": [
    "# I/O ports\n",
    "class TstSys(LeafSystem):\n",
    "    def __init__(self):\n",
    "        super().__init__()\n",
    "        self._inp = self.DeclareVectorInputPort(name='in', size=2)\n",
    "        self.DeclareVectorOutputPort(name='out', size=2, calc=self.calc_outp)\n",
    "    \n",
    "    def calc_outp(self, ctx, outp):\n",
    "        # Callback of the output port.\n",
    "        # print(type(outp))\n",
    "        res = self._inp.Eval(ctx)  # Use .Eval() to get the values\n",
    "        outp.SetFromVector(res)    # Set the values of the output vector or use `.set_value()`"
   ]
  },
  {
   "cell_type": "code",
   "execution_count": null,
   "id": "fdaa97d1-64e6-4e2c-83fd-de9c0945d288",
   "metadata": {},
   "outputs": [
    {
     "name": "stdout",
     "output_type": "stream",
     "text": [
      "Evaluate/Call the input port: [0. 1.]\n",
      "Evaluate/Call the input port: [0.0, 1.0]\n",
      "Evaluate/Call the output port: [0. 1.]\n"
     ]
    }
   ],
   "source": [
    "tst_sys = TstSys()\n",
    "ctx = tst_sys.CreateDefaultContext()\n",
    "tst_sys.GetInputPort('in').FixValue(ctx, [0.,1])  # Fix the values of the input to constants\n",
    "print(f\"Evaluate/Call the input port: {tst_sys.GetInputPort('in').Eval(ctx)}\")\n",
    "print(f\"Evaluate/Call the input port: {tst_sys.EvalVectorInput(ctx,0)}\")  # convenient alternative _only_ for vector input\n",
    "print(f\"Evaluate/Call the output port: {tst_sys.GetOutputPort('out').Eval(ctx)}\")"
   ]
  },
  {
   "cell_type": "code",
   "execution_count": null,
   "id": "4ea6c34f-fcb3-4c34-822a-5ed71e241b83",
   "metadata": {},
   "outputs": [
    {
     "data": {
      "text/plain": [
       "(<pydrake.systems.framework.InputPort>,\n",
       " <pydrake.systems.framework.InputPort>)"
      ]
     },
     "execution_count": null,
     "metadata": {},
     "output_type": "execute_result"
    }
   ],
   "source": [
    "# We can get the I/O ports either by `attrs` or `.GetIn/OutputPort(name)`.\n",
    "tst_sys.GetInputPort('in'), tst_sys._inp"
   ]
  },
  {
   "cell_type": "markdown",
   "id": "31c7cd86-e1eb-4124-9beb-f978c96a07cb",
   "metadata": {},
   "source": [
    "::: {.callout-note appearance='simple' title=\"Context\"}\n",
    "You may have notice the keyword `ctx` which is a shorthand for `Context`. In `pydrake`, each `System` has it own `Context`, which basically _stores_ all information we needs to actually run it (_think of it as a 'table', a system knows how to make its own table, `.CreateDefaultContext()`, for users or other codes to edit_). A `Context` includes the time `t`, the state `x`, any inputs `u`, and any system parameters `p`. Note, __all__ inputs of a `System` must be defined, either tied to the outputs of another system or fixed via `FixValue()`.\n",
    ":::"
   ]
  },
  {
   "cell_type": "markdown",
   "id": "99daa80c-ab31-47c6-822f-dbd31325ed55",
   "metadata": {},
   "source": [
    "### State"
   ]
  },
  {
   "cell_type": "code",
   "execution_count": null,
   "id": "0b57a32b-6c9d-4a74-a8d8-7f056f273c9a",
   "metadata": {},
   "outputs": [],
   "source": [
    "# State\n",
    "class TstSys(LeafSystem):\n",
    "    def __init__(self):\n",
    "        super().__init__()\n",
    "        self._ds1 = self.DeclareDiscreteState(1)  # DiscreteStateIndex(0), aka group number\n",
    "        self._ds2 = self.DeclareDiscreteState(2)  # DiscreteStateIndex(1)\n",
    "        self._cs = self.DeclareContinuousState(2) # ContinuousStateIndex(0), can _only_ have zero or one continous state, i.e. 0\n",
    "        self._ds1_outp = self.DeclareStateOutputPort('ds1', self._ds1)\n",
    "        self._cs_outp = self.DeclareStateOutputPort('cs', self._cs)\n",
    "\n",
    "        # Set the rules on how to update the discrete states, i.e. `x[n+1] = f(n,x[n],u,p)`.\n",
    "        # Starting from `offset_sec` and every `period_sec`.\n",
    "        # Different dicrete states can be updated with their own rules.\n",
    "        self.DeclarePeriodicDiscreteUpdateEvent(period_sec=1.0, offset_sec=0.0, update=self.update1)\n",
    "        self.DeclarePeriodicDiscreteUpdateEvent(period_sec=2.0, offset_sec=0.0, update=self.update2)\n",
    "\n",
    "    def update1(self, ctx, outp):\n",
    "        print(f'update1 is called at {ctx.get_time()}s')\n",
    "        # print(type(outp))\n",
    "        x = ctx.get_discrete_state(0).get_mutable_value()  # _ds1\n",
    "        xp = x**2\n",
    "        outp.get_mutable_vector(0).set_value(xp)\n",
    "\n",
    "    def update2(self, ctx, outp):\n",
    "        print(f'update2 is called at {ctx.get_time()}s')\n",
    "        # print(type(outp))\n",
    "        x = ctx.get_discrete_state(1).get_mutable_value()  # _ds2\n",
    "        xp = x+1\n",
    "        outp.get_mutable_vector(1).set_value(xp)\n",
    "    \n",
    "    # For continous state.\n",
    "    # xdot = f(x,u,t,p)\n",
    "    def DoCalcTimeDerivatives(self, ctx, outp):\n",
    "        # print(type(outp))\n",
    "        x = ctx.get_continuous_state_vector().get_mutable_value()\n",
    "        xd = -x\n",
    "        outp.get_mutable_vector().SetFromVector(xd)  # Or with `.set_value()`"
   ]
  },
  {
   "cell_type": "code",
   "execution_count": null,
   "id": "14df31f4-196b-4ea1-80fa-85dc7aa45866",
   "metadata": {},
   "outputs": [
    {
     "name": "stdout",
     "output_type": "stream",
     "text": [
      "===Inital===\n",
      "discrete1: [0.9], discrete2: [1.0, 2.0];\n",
      "continous: [2.0, -2.0]\n",
      "\n",
      "update1 is called at 0.0s\n",
      "update2 is called at 0.0s\n",
      "update1 is called at 1.0s\n",
      "update1 is called at 2.0s\n",
      "update2 is called at 2.0s\n",
      "update1 is called at 3.0s\n",
      "===Current===\n",
      "discrete1: [0.18530201888518424], discrete2: [3.0, 4.0];\n",
      "continous: [0.036626510817661724, -0.036626510817661724]\n",
      "\n"
     ]
    }
   ],
   "source": [
    "tst_sys = TstSys()\n",
    "sim = Simulator(tst_sys)\n",
    "ctx = sim.get_mutable_context()\n",
    "\n",
    "# Set initial states\n",
    "ctx.SetDiscreteState(0, [.9])  # idx (group num), vals\n",
    "ctx.SetDiscreteState(1, [1., 2.])\n",
    "ctx.SetContinuousState([2., -2.])\n",
    "print('===Inital===')\n",
    "print(f'discrete1: {ctx.get_discrete_state(0)}, discrete2: {ctx.get_discrete_state(1)};\\ncontinous: {ctx.get_continuous_state_vector()}\\n')\n",
    "\n",
    "# Simulate\n",
    "sim.AdvanceTo(4.)\n",
    "print('===Current===')\n",
    "print(f'discrete1: {ctx.get_discrete_state(0)}, discrete2: {ctx.get_discrete_state(1)};\\ncontinous: {ctx.get_continuous_state_vector()}\\n')"
   ]
  },
  {
   "cell_type": "markdown",
   "id": "eeff6b68-02c2-4765-815f-a5747a863dc4",
   "metadata": {},
   "source": [
    "::: {.callout-tip appearance='simple'}\n",
    "`.get_discrete_state_vector()` is a convenience method that can _only_ be called when there is no more than _one_ group of discrete state. Otherwise, `.get_discrete_state(0).get_mutable_value()` does the same thing and works in general.\n",
    ":::"
   ]
  },
  {
   "cell_type": "code",
   "execution_count": null,
   "id": "3e155bfb-8e5c-4138-8635-8c617a81f107",
   "metadata": {},
   "outputs": [
    {
     "data": {
      "text/plain": [
       "<pydrake.systems.framework.ContinuousState>"
      ]
     },
     "execution_count": null,
     "metadata": {},
     "output_type": "execute_result"
    }
   ],
   "source": [
    "tst_sys.EvalTimeDerivatives(ctx)\n",
    "# tst_sys.EvalUniquePeriodicDiscreteUpdate(ctx).get_vector()  # works if there is _only one_ discrete update event"
   ]
  },
  {
   "cell_type": "markdown",
   "id": "bd147c5e-0ba1-4788-b201-354c5ffed85d",
   "metadata": {},
   "source": [
    "::: {.callout-note appearance='simple' title=Vector}\n",
    "Vectors in `pydrake` are special datatypes, e.g. [`VectorBase`](https://drake.mit.edu/pydrake/pydrake.systems.framework.html?highlight=basicvector#pydrake.systems.framework.VectorBase) and [`BasicVector`](https://drake.mit.edu/pydrake/pydrake.systems.framework.html?highlight=basicvector#pydrake.systems.framework.BasicVector). `VectorBase` is an abstract base class, it has methods like `.GetAtIndex()`, `.SetAtIndex()`, `.SetFromVector()`, and `.CopyToVector()`; `BasicVector` inherits all those and has additional methods like `.get_value()` and `.set_value()`.\n",
    "\n",
    "`.get_mutable_vector()` returns an _editable_ vector object, while `.get_vector()` is _only_ for read; same goes for `.get_mutable_value()` and `.get_value()`.\n",
    ":::"
   ]
  },
  {
   "cell_type": "markdown",
   "id": "e1f03ad0-7aac-4fe3-a1de-dd73df58c35a",
   "metadata": {},
   "source": [
    "::: {.callout-note appearance='simple' title=`outp`}\n",
    "I have used `outp` as a semantic-free word in all examples, and its `type(outp)` should be clear from the context where it appears. E.g., in `calc_outp(ctx, outp)`, `outp` is just a container, i.e. `BasicVector`; in `update(ctx, outp)`, it is `DiscreteValues`; in `DoCalcTimeDerivatives(ctx, outp)` it is `ContinuousState`.\n",
    ":::"
   ]
  },
  {
   "cell_type": "markdown",
   "id": "8a250498-ab43-48b4-a10e-5c1c6c20cf5d",
   "metadata": {},
   "source": [
    "### Parameters, publish and namedview"
   ]
  },
  {
   "cell_type": "code",
   "execution_count": null,
   "id": "0bdb293b-21a2-4029-87b7-ab9494f031cc",
   "metadata": {},
   "outputs": [],
   "source": [
    "# Parameters\n",
    "class TstSys(LeafSystem):\n",
    "    param_names = namedview('params', ('temp','vol'))  # Belongs to the class\n",
    "    def __init__(self):\n",
    "        super().__init__()\n",
    "        self.DeclareNumericParameter(BasicVector([23, 1]))  # Must be `BasicVector`\n",
    "        # Calling `ForcedPublish()` on `System` will trigger this callback.\n",
    "        self.DeclareForcedPublishEvent(self.publish)\n",
    "        # Publish once every second.\n",
    "        self.DeclarePeriodicPublishEvent(period_sec=1, offset_sec=0, publish=self.publish)\n",
    "        \n",
    "    def publish(self, ctx):\n",
    "        params = self.param_names(ctx.get_numeric_parameter(0).get_value())\n",
    "        print(f\"publish parameters: temp={params.temp}, vol={params.vol}\")"
   ]
  },
  {
   "cell_type": "code",
   "execution_count": null,
   "id": "8ce3e429-5701-4c15-b45f-43dcc8c30b52",
   "metadata": {},
   "outputs": [
    {
     "name": "stdout",
     "output_type": "stream",
     "text": [
      "publish parameters: temp=23.0, vol=1.0\n",
      "publish parameters: temp=23.0, vol=1.0\n",
      "publish parameters: temp=23.0, vol=1.0\n",
      "\n",
      "===ForcedPublish===\n",
      "publish parameters: temp=23.0, vol=1.0\n"
     ]
    }
   ],
   "source": [
    "tst_sys = TstSys()\n",
    "sim = Simulator(tst_sys)\n",
    "ctx = tst_sys.CreateDefaultContext()\n",
    "\n",
    "sim.AdvanceTo(2)\n",
    "print('\\n===ForcedPublish===')\n",
    "tst_sys.ForcedPublish(sim.get_context())"
   ]
  },
  {
   "cell_type": "markdown",
   "id": "f7dfa801-ad65-4e7a-b5d1-11b9bbf8c93b",
   "metadata": {},
   "source": [
    "::: {.callout-tip appearance='simple'}\n",
    "`namedview` is similar to `namedtuple` in `python`, it enables us to access the values of an array by their `field names`. Note that an instantiated object is a _view (reference)_ of the source not a _copy_.\n",
    ":::"
   ]
  },
  {
   "cell_type": "markdown",
   "id": "6351dad1-38f9-42b9-87d5-b16a61ca72ff",
   "metadata": {},
   "source": [
    "## Simulator"
   ]
  },
  {
   "cell_type": "code",
   "execution_count": null,
   "id": "c4c59493-412f-4751-8c0e-e32d2b539137",
   "metadata": {},
   "outputs": [],
   "source": [
    "from pydrake.systems.analysis import GetIntegrationSchemes, ExtractSimulatorConfig, ApplySimulatorConfig, PrintSimulatorStatistics"
   ]
  },
  {
   "cell_type": "markdown",
   "id": "ca8de3a8-ad51-4d40-81eb-18254f7259f0",
   "metadata": {},
   "source": [
    "A `Simulator` can advance the state of a `System`to desired `boundary_time` (sec). The default integrator uses RK3, we can check available schemes from `GetIntegrationSchemes()`.\n",
    "\n",
    "\n",
    "Each `Simulator` has its _internally-maintained_ `Context`, i.e. independent of that of a `System` or any current `ctx` in use. We can `.reset_context(ctx)` to replace the internal one with `ctx`. "
   ]
  },
  {
   "cell_type": "code",
   "execution_count": null,
   "id": "f04109e7-d443-4f14-b0a4-afb5e12e6b47",
   "metadata": {},
   "outputs": [
    {
     "data": {
      "text/plain": [
       "['bogacki_shampine3',\n",
       " 'explicit_euler',\n",
       " 'implicit_euler',\n",
       " 'radau1',\n",
       " 'radau3',\n",
       " 'runge_kutta2',\n",
       " 'runge_kutta3',\n",
       " 'runge_kutta5',\n",
       " 'semi_explicit_euler',\n",
       " 'velocity_implicit_euler']"
      ]
     },
     "execution_count": null,
     "metadata": {},
     "output_type": "execute_result"
    }
   ],
   "source": [
    "GetIntegrationSchemes()"
   ]
  },
  {
   "cell_type": "code",
   "execution_count": null,
   "id": "1a946809-2ff3-441e-874f-2a9f5c4de755",
   "metadata": {},
   "outputs": [
    {
     "name": "stdout",
     "output_type": "stream",
     "text": [
      "===Before cfg===\n",
      "SimulatorConfig(integration_scheme='runge_kutta3', max_step_size=0.1, accuracy=0.0001, use_error_control=True, target_realtime_rate=0.0, publish_every_time_step=False)\n",
      "\n",
      "===After cfg===\n",
      "SimulatorConfig(integration_scheme='explicit_euler', max_step_size=0.1, accuracy=0.0001, use_error_control=True, target_realtime_rate=0.0, publish_every_time_step=False)\n"
     ]
    }
   ],
   "source": [
    "# Configure a simulator\n",
    "tst_sys = TstSys()\n",
    "sim = Simulator(tst_sys)\n",
    "\n",
    "sim_cfg = ExtractSimulatorConfig(sim)\n",
    "print(f'===Before cfg===\\n{sim_cfg}\\n')\n",
    "\n",
    "sim_cfg.integration_scheme = 'explicit_euler'\n",
    "ApplySimulatorConfig(sim_cfg, sim)\n",
    "print(f'===After cfg===\\n{sim_cfg}')"
   ]
  },
  {
   "cell_type": "code",
   "execution_count": null,
   "id": "0b7a44b4-3463-4797-a62d-68e1057c1fa8",
   "metadata": {},
   "outputs": [
    {
     "name": "stdout",
     "output_type": "stream",
     "text": [
      "publish parameters: temp=23.0, vol=1.0\n",
      "publish parameters: temp=23.0, vol=1.0\n",
      "publish parameters: temp=23.0, vol=1.0\n",
      "General stats regarding discrete updates:\n",
      "Number of time steps taken (simulator stats) = 2\n",
      "Simulator publishes every time step: false\n",
      "Number of publishes = 3\n",
      "Number of discrete updates = 0\n",
      "Number of \"unrestricted\" updates = 0\n",
      "\n",
      "Note: the following integrator took zero steps. The simulator exclusively used the discrete solver.\n",
      "\n",
      "Stats for integrator ExplicitEulerIntegrator with fixed steps:\n",
      "Number of time steps taken (integrator stats) = 0\n",
      "Number of derivative evaluations = 0\n",
      "Number of steps shrunk due to convergence-based failure = 0\n",
      "Number of convergence-based step failures (should match) = 0\n"
     ]
    }
   ],
   "source": [
    "# Print simulation details\n",
    "sim.AdvanceTo(2)\n",
    "PrintSimulatorStatistics(sim)"
   ]
  },
  {
   "cell_type": "markdown",
   "id": "b08970f5-a55e-4550-85e3-95e2952414a7",
   "metadata": {},
   "source": [
    "### Monitor"
   ]
  },
  {
   "cell_type": "markdown",
   "id": "09e400f9-fe34-4c78-81b0-fb911ebbff7b",
   "metadata": {},
   "source": [
    "Use monitors to [print, record, and interrupt](https://drake.mit.edu/pydrake/pydrake.systems.analysis.html?highlight=simulator#pydrake.systems.analysis.Simulator.set_monitor) simulations. For logging, we can use `pydrake`'s `LogVectorOutput` and `VectorLogSink` in a `Diagram`."
   ]
  },
  {
   "cell_type": "code",
   "execution_count": null,
   "id": "aa36305d-baa5-4e04-bee1-7441b61123da",
   "metadata": {},
   "outputs": [],
   "source": [
    "from pydrake.systems.framework import EventStatus"
   ]
  },
  {
   "cell_type": "code",
   "execution_count": null,
   "id": "b8bfdeda-5ccc-4dcf-83fd-5dbd2292d315",
   "metadata": {},
   "outputs": [],
   "source": [
    "_stats = []\n",
    "def recorder(ctx):\n",
    "    print((_t:=ctx.get_time()))\n",
    "    _stats.append(_t)\n",
    "    return EventStatus.Succeeded()\n",
    "def early_stop(ctx):\n",
    "    if ctx.get_time() > .5: return EventStatus.ReachedTermination(tst_sys, 't=.5 reached')\n",
    "    return EventStatus.Succeeded()"
   ]
  },
  {
   "cell_type": "code",
   "execution_count": null,
   "id": "ab1113f7-1fa7-46bb-ab88-0a3084aa62da",
   "metadata": {},
   "outputs": [],
   "source": [
    "tst_sys = TstSys()\n",
    "sim = Simulator(tst_sys)\n",
    "\n",
    "# Can have only one monitor\n",
    "sim.set_monitor(recorder)\n",
    "# sim.set_monitor(early_stop)"
   ]
  },
  {
   "cell_type": "code",
   "execution_count": null,
   "id": "c9673dd4-dc09-496f-9cfd-6a4f1f516fdc",
   "metadata": {},
   "outputs": [
    {
     "name": "stdout",
     "output_type": "stream",
     "text": [
      "publish parameters: temp=23.0, vol=1.0\n",
      "0.0\n",
      "0.5\n"
     ]
    },
    {
     "data": {
      "text/plain": [
       "('', [0.0, 0.5])"
      ]
     },
     "execution_count": null,
     "metadata": {},
     "output_type": "execute_result"
    }
   ],
   "source": [
    "status = sim.AdvanceTo(.5)\n",
    "status.message(), _stats"
   ]
  },
  {
   "cell_type": "markdown",
   "id": "e6bdae6c-d3a5-445a-9cfc-2a98b1a5e84e",
   "metadata": {},
   "source": [
    "## Diagram"
   ]
  },
  {
   "cell_type": "markdown",
   "id": "0b5ab4c8-e407-4b2f-92ad-7f793966f2af",
   "metadata": {},
   "source": [
    "A `Diagram` is a collection of `System`s inter-connected together. It is also a `System`, i.e. we can form _nested_ diagrams."
   ]
  },
  {
   "cell_type": "code",
   "execution_count": null,
   "id": "b6f20451-2801-4e0f-b8cd-fb684d0d4b36",
   "metadata": {},
   "outputs": [],
   "source": [
    "from pydrake.systems.framework import DiagramBuilder\n",
    "from pydrake.systems.primitives import AffineSystem, ConstantVectorSource ,LogVectorOutput"
   ]
  },
  {
   "cell_type": "code",
   "execution_count": null,
   "id": "07311b60-9dc4-4ad1-8ec0-b72ed0741d67",
   "metadata": {},
   "outputs": [],
   "source": [
    "inp_src = ConstantVectorSource(np.array([1.,2.]))\n",
    "aff_sys = AffineSystem(A=-np.eye(2), B=-np.eye(2), C=np.eye(2), y0=np.ones(2))\n",
    "builder = DiagramBuilder()\n",
    "# Add subsystems\n",
    "builder.AddNamedSystem('src', inp_src)\n",
    "builder.AddNamedSystem('aff', aff_sys)\n",
    "# Connect subsystems\n",
    "builder.Connect(inp_src.get_output_port(), aff_sys.get_input_port())\n",
    "# Export I/O port of a diagram, no inputport in this example\n",
    "builder.ExportOutput(aff_sys.get_output_port())\n",
    "# Add logger\n",
    "logger = LogVectorOutput(aff_sys.get_output_port(), builder, 0.1)  # publish_period=0.1\n",
    "logger.set_name('aff_outp')\n",
    "\n",
    "dgm = builder.Build()\n",
    "dgm.set_name('aff_diag')"
   ]
  },
  {
   "cell_type": "code",
   "execution_count": null,
   "id": "55fdf131-bdf8-4d0d-9168-7b0508edecb2",
   "metadata": {},
   "outputs": [],
   "source": [
    "import pydot\n",
    "from IPython.display import SVG, display\n",
    "import matplotlib.pyplot as plt"
   ]
  },
  {
   "cell_type": "code",
   "execution_count": null,
   "id": "8fb8858c-6c35-404c-a5e2-37f0f44d66e5",
   "metadata": {},
   "outputs": [
    {
     "data": {
      "image/svg+xml": [
       "<svg xmlns=\"http://www.w3.org/2000/svg\" xmlns:xlink=\"http://www.w3.org/1999/xlink\" width=\"489pt\" height=\"249pt\" viewBox=\"0.00 0.00 489.00 249.00\">\n",
       "<g id=\"graph0\" class=\"graph\" transform=\"scale(1 1) rotate(0) translate(4 245)\">\n",
       "<title>_10</title>\n",
       "<polygon fill=\"white\" stroke=\"none\" points=\"-4,4 -4,-245 485,-245 485,4 -4,4\"/>\n",
       "<g id=\"clust1\" class=\"cluster\">\n",
       "<title>cluster10diagram</title>\n",
       "<polygon fill=\"none\" stroke=\"black\" points=\"8,-8 8,-233 473,-233 473,-8 8,-8\"/>\n",
       "<text text-anchor=\"start\" x=\"214.62\" y=\"-212.7\" font-family=\"Times,serif\" font-weight=\"bold\" font-size=\"14.00\">Diagram</text>\n",
       "<text text-anchor=\"start\" x=\"198.88\" y=\"-198.7\" font-family=\"Times,serif\" font-size=\"14.00\">name=aff_diag</text>\n",
       "</g>\n",
       "<g id=\"clust2\" class=\"cluster\">\n",
       "<title>clusters10out</title>\n",
       "<polygon fill=\"lightgrey\" stroke=\"lightgrey\" points=\"361.88,-104 361.88,-181 443.12,-181 443.12,-104 361.88,-104\"/>\n",
       "<text text-anchor=\"middle\" x=\"402.5\" y=\"-163.7\" font-family=\"Times,serif\" font-size=\"14.00\">output ports</text>\n",
       "</g>\n",
       "<g id=\"clust3\" class=\"cluster\">\n",
       "<title>cluster10subsystems</title>\n",
       "<polygon fill=\"none\" stroke=\"white\" points=\"16,-16 16,-96 465,-96 465,-16 16,-16\"/>\n",
       "</g>\n",
       "<!-- s10out -->\n",
       "<g id=\"node1\" class=\"node\">\n",
       "<title>s10out</title>\n",
       "<polygon fill=\"none\" stroke=\"green\" points=\"381.88,-118.75 381.88,-141.25 423.12,-141.25 423.12,-118.75 381.88,-118.75\"/>\n",
       "<text text-anchor=\"start\" x=\"384.88\" y=\"-124.95\" font-family=\"Times,serif\" font-size=\"14.00\">aff_y0</text>\n",
       "</g>\n",
       "<!-- s7 -->\n",
       "<g id=\"node2\" class=\"node\">\n",
       "<title>s7</title>\n",
       "<polygon fill=\"none\" stroke=\"black\" points=\"32,-50 32,-84 168,-84 168,-50 32,-50\"/>\n",
       "<text text-anchor=\"start\" x=\"34.75\" y=\"-68.7\" font-family=\"Times,serif\" font-weight=\"bold\" font-size=\"14.00\">ConstantVectorSource</text>\n",
       "<text text-anchor=\"start\" x=\"73\" y=\"-54.7\" font-family=\"Times,serif\" font-size=\"14.00\">name=src</text>\n",
       "<polyline fill=\"none\" stroke=\"grey\" points=\"32,-50 32,-28 93,-28\"/>\n",
       "<polygon fill=\"none\" stroke=\"black\" points=\"93,-28 93,-50 168,-50 168,-28 93,-28\"/>\n",
       "<text text-anchor=\"start\" x=\"123.75\" y=\"-33.7\" font-family=\"Times,serif\" font-size=\"14.00\">y0</text>\n",
       "</g>\n",
       "<!-- s8 -->\n",
       "<g id=\"node3\" class=\"node\">\n",
       "<title>s8</title>\n",
       "<polygon fill=\"none\" stroke=\"black\" points=\"220,-50 220,-84 304,-84 304,-50 220,-50\"/>\n",
       "<text text-anchor=\"start\" x=\"223\" y=\"-68.7\" font-family=\"Times,serif\" font-weight=\"bold\" font-size=\"14.00\">AffineSystem</text>\n",
       "<text text-anchor=\"start\" x=\"235.38\" y=\"-54.7\" font-family=\"Times,serif\" font-size=\"14.00\">name=aff</text>\n",
       "<polygon fill=\"none\" stroke=\"black\" points=\"220,-28 220,-50 262,-50 262,-28 220,-28\"/>\n",
       "<text text-anchor=\"start\" x=\"234.25\" y=\"-33.7\" font-family=\"Times,serif\" font-size=\"14.00\">u0</text>\n",
       "<polygon fill=\"none\" stroke=\"black\" points=\"262,-28 262,-50 304,-50 304,-28 262,-28\"/>\n",
       "<text text-anchor=\"start\" x=\"276.25\" y=\"-33.7\" font-family=\"Times,serif\" font-size=\"14.00\">y0</text>\n",
       "</g>\n",
       "<!-- s7&#45;&gt;s8 -->\n",
       "<g id=\"edge1\" class=\"edge\">\n",
       "<title>s7:e-&gt;s8:w</title>\n",
       "<path fill=\"none\" stroke=\"black\" d=\"M169,-39C186.88,-39 193.97,-39 207.64,-39\"/>\n",
       "<polygon fill=\"black\" stroke=\"black\" points=\"207.49,-42.5 217.49,-39 207.49,-35.5 207.49,-42.5\"/>\n",
       "</g>\n",
       "<!-- s8&#45;&gt;s10out -->\n",
       "<g id=\"edge3\" class=\"edge\">\n",
       "<title>s8:e-&gt;s10out:w</title>\n",
       "<path fill=\"none\" stroke=\"green\" d=\"M305,-39C353.24,-39 332.25,-115.68 369.14,-128.26\"/>\n",
       "<polygon fill=\"green\" stroke=\"green\" points=\"368.59,-131.72 379,-129.77 369.65,-124.8 368.59,-131.72\"/>\n",
       "</g>\n",
       "<!-- s9 -->\n",
       "<g id=\"node4\" class=\"node\">\n",
       "<title>s9</title>\n",
       "<polygon fill=\"none\" stroke=\"black\" points=\"356,-50 356,-84 449,-84 449,-50 356,-50\"/>\n",
       "<text text-anchor=\"start\" x=\"359\" y=\"-68.7\" font-family=\"Times,serif\" font-weight=\"bold\" font-size=\"14.00\">VectorLogSink</text>\n",
       "<text text-anchor=\"start\" x=\"360.5\" y=\"-54.7\" font-family=\"Times,serif\" font-size=\"14.00\">name=aff_outp</text>\n",
       "<polygon fill=\"none\" stroke=\"black\" points=\"356,-28 356,-50 413,-50 413,-28 356,-28\"/>\n",
       "<text text-anchor=\"start\" x=\"373.25\" y=\"-33.7\" font-family=\"Times,serif\" font-size=\"14.00\">data</text>\n",
       "<polyline fill=\"none\" stroke=\"grey\" points=\"413,-28 449,-28 449,-50\"/>\n",
       "</g>\n",
       "<!-- s8&#45;&gt;s9 -->\n",
       "<g id=\"edge2\" class=\"edge\">\n",
       "<title>s8:e-&gt;s9:w</title>\n",
       "<path fill=\"none\" stroke=\"black\" d=\"M305,-39C322.7,-39 329.72,-39 343.25,-39\"/>\n",
       "<polygon fill=\"black\" stroke=\"black\" points=\"342.99,-42.5 352.99,-39 342.99,-35.5 342.99,-42.5\"/>\n",
       "</g>\n",
       "</g>\n",
       "</svg>"
      ],
      "text/plain": [
       "<IPython.core.display.SVG object>"
      ]
     },
     "metadata": {},
     "output_type": "display_data"
    }
   ],
   "source": [
    "#| eval: false\n",
    "display(SVG(pydot.graph_from_dot_data(dgm.GetGraphvizString(max_depth=2))[0].create_svg()))"
   ]
  },
  {
   "cell_type": "code",
   "execution_count": null,
   "id": "80fd8e84-302e-40e0-b17b-a88837ea8337",
   "metadata": {},
   "outputs": [],
   "source": [
    "sim = Simulator(dgm)\n",
    "ctx = sim.get_mutable_context()\n",
    "\n",
    "logger.FindMutableLog(ctx).Clear()\n",
    "sim.AdvanceTo(2)\n",
    "log = logger.FindLog(ctx)"
   ]
  },
  {
   "cell_type": "code",
   "execution_count": null,
   "id": "30b9b229-e247-4d4e-80be-4dfbce12c258",
   "metadata": {},
   "outputs": [
    {
     "data": {
      "image/png": "[encoded data removed]",
      "text/plain": [
       "<Figure size 200x200 with 1 Axes>"
      ]
     },
     "metadata": {},
     "output_type": "display_data"
    }
   ],
   "source": [
    "ts,vals = log.sample_times(),log.data()\n",
    "fig,ax = plt.subplots(figsize=(2,2))\n",
    "ax.plot(ts, vals[0], 'x-', label='y[0]')\n",
    "ax.plot(ts, vals[1], 'x-', label='y[1]')\n",
    "ax.set_xlabel('t (sec)')\n",
    "ax.legend();"
   ]
  },
  {
   "cell_type": "markdown",
   "id": "b35b63bc-f998-4bbe-9b58-bc1170970bab",
   "metadata": {},
   "source": [
    "### Context from root"
   ]
  },
  {
   "cell_type": "markdown",
   "id": "96fb370c-c46d-4088-96df-289ce475731b",
   "metadata": {},
   "source": [
    "The `Context` of a `Diagram` is a nested (tree) of its subsystems' `Context`s. It is preferable to change the values of a subsystem's `Context` by retrieving it from the _root_."
   ]
  },
  {
   "cell_type": "code",
   "execution_count": null,
   "id": "c094016e-9e10-479d-9808-b2a3ccf9f016",
   "metadata": {},
   "outputs": [
    {
     "name": "stdout",
     "output_type": "stream",
     "text": [
      "::aff_diag Context (of a Diagram)\n",
      "----------------------------------\n",
      "2 total continuous states\n",
      "2 total numeric parameters in 1 groups\n",
      "\n",
      "::aff_diag::src Context\n",
      "------------------------\n",
      "Time: 0\n",
      "Parameters:\n",
      "  1 numeric parameter groups with\n",
      "     2 parameters\n",
      "       1 2\n",
      "\n",
      "::aff_diag::aff Context\n",
      "------------------------\n",
      "Time: 0\n",
      "States:\n",
      "  2 continuous states\n",
      "    0 0\n",
      "\n",
      "\n"
     ]
    }
   ],
   "source": [
    "dgm_ctx = dgm.CreateDefaultContext()\n",
    "print(dgm_ctx)"
   ]
  },
  {
   "cell_type": "code",
   "execution_count": null,
   "id": "0647cda8-120d-484c-bbc3-b2a1de661347",
   "metadata": {},
   "outputs": [
    {
     "name": "stdout",
     "output_type": "stream",
     "text": [
      "::aff_diag Context (of a Diagram)\n",
      "----------------------------------\n",
      "2 total continuous states\n",
      "2 total numeric parameters in 1 groups\n",
      "\n",
      "::aff_diag::src Context\n",
      "------------------------\n",
      "Time: 0\n",
      "Parameters:\n",
      "  1 numeric parameter groups with\n",
      "     2 parameters\n",
      "       -1 -2\n",
      "\n",
      "::aff_diag::aff Context\n",
      "------------------------\n",
      "Time: 0\n",
      "States:\n",
      "  2 continuous states\n",
      "    0 0\n",
      "\n",
      "\n"
     ]
    }
   ],
   "source": [
    "# Context from root\n",
    "src_ctx = inp_src.GetMyContextFromRoot(dgm_ctx)\n",
    "src_ctx.get_numeric_parameter(0).set_value([-1,-2.])\n",
    "print(dgm_ctx)"
   ]
  },
  {
   "cell_type": "code",
   "execution_count": null,
   "id": "3a04e25d-2fdf-4233-b59a-2c3d64dcfebf",
   "metadata": {},
   "outputs": [],
   "source": []
  }
 ],
 "metadata": {
  "kernelspec": {
   "display_name": "python3",
   "language": "python",
   "name": "python3"
  }
 },
 "nbformat": 4,
 "nbformat_minor": 5
}
