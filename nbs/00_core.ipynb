{
 "cells": [
  {
   "cell_type": "markdown",
   "metadata": {},
   "source": [
    "# Core\n",
    "\n",
    "> Utils and extensions to `pydrake`."
   ]
  },
  {
   "cell_type": "code",
   "execution_count": null,
   "metadata": {},
   "outputs": [],
   "source": [
    "#| default_exp core"
   ]
  },
  {
   "cell_type": "code",
   "execution_count": null,
   "metadata": {},
   "outputs": [],
   "source": [
    "#| hide\n",
    "from nbdev.showdoc import *"
   ]
  },
  {
   "cell_type": "code",
   "execution_count": null,
   "metadata": {},
   "outputs": [],
   "source": [
    "#| export\n",
    "from simbox.imports import *"
   ]
  },
  {
   "cell_type": "markdown",
   "metadata": {},
   "source": [
    "## Utils"
   ]
  },
  {
   "cell_type": "code",
   "execution_count": null,
   "metadata": {},
   "outputs": [],
   "source": [
    "#| export\n",
    "def viz_diagram(dgm, max_depth=1):\n",
    "    \"Visualize a `Diagram`.\"\n",
    "    display(SVG(pydot.graph_from_dot_data(dgm.GetGraphvizString(max_depth=max_depth))[0].create_svg()))"
   ]
  },
  {
   "cell_type": "code",
   "execution_count": null,
   "metadata": {},
   "outputs": [],
   "source": [
    "#| export\n",
    "def set_sim_cfg(sim, cfg=dict(), verbose=False):\n",
    "    \"Set `Simulator`'s configuration.\"\n",
    "    sim_cfg = ExtractSimulatorConfig(sim)\n",
    "    for k,v in cfg.items():\n",
    "        try:\n",
    "            setattr(sim_cfg, k, v)\n",
    "        except AttributeError:\n",
    "            raise AttributeError(f\"No such attribute '{k}'; check {[o.name for o in sim_cfg.__fields__]}\")\n",
    "    if verbose: print(f\"Changed config:\\n{sim_cfg}\\n\")\n",
    "    ApplySimulatorConfig(sim_cfg, sim)\n",
    "    if verbose: print(f\"To:\\n{ExtractSimulatorConfig(sim)}\")"
   ]
  },
  {
   "cell_type": "code",
   "execution_count": null,
   "metadata": {},
   "outputs": [],
   "source": [
    "#| export\n",
    "def mk_log_diagram(sys, inp_idx: Union[int, str]=0, outp_idx: Union[int, str]=0, log_period: float=0.):\n",
    "    \"Returns a diagram with one (or zero) input port and one output port exported; a logger to that output port.\"\n",
    "    builder = DiagramBuilder()\n",
    "    builder.AddSystem(sys)\n",
    "    if inp_idx is not None:\n",
    "        inp = sys.get_input_port(inp_idx) if isinstance(inp_idx, int) else sys.GetInputPort(inp_idx)\n",
    "        builder.ExportInput(inp)\n",
    "    outp = sys.get_output_port(outp_idx) if isinstance(outp_idx, int) else sys.GetOutputPort(outp_idx)\n",
    "    builder.ExportOutput(outp)\n",
    "    \n",
    "    logger = LogVectorOutput(outp, builder, log_period)\n",
    "    return builder.Build(), logger"
   ]
  },
  {
   "cell_type": "code",
   "execution_count": null,
   "metadata": {},
   "outputs": [
    {
     "data": {
      "image/svg+xml": [
       "<svg xmlns=\"http://www.w3.org/2000/svg\" xmlns:xlink=\"http://www.w3.org/1999/xlink\" width=\"353pt\" height=\"195pt\" viewBox=\"0.00 0.00 353.00 195.00\">\n",
       "<g id=\"graph0\" class=\"graph\" transform=\"scale(1 1) rotate(0) translate(4 191)\">\n",
       "<title>_4</title>\n",
       "<polygon fill=\"white\" stroke=\"none\" points=\"-4,4 -4,-191 349,-191 349,4 -4,4\"/>\n",
       "<g id=\"clust1\" class=\"cluster\">\n",
       "<title>cluster4diagram</title>\n",
       "<polygon fill=\"none\" stroke=\"black\" points=\"8,-8 8,-179 337,-179 337,-8 8,-8\"/>\n",
       "<text text-anchor=\"start\" x=\"146.62\" y=\"-158.7\" font-family=\"Times,serif\" font-weight=\"bold\" font-size=\"14.00\">Diagram</text>\n",
       "</g>\n",
       "<g id=\"clust3\" class=\"cluster\">\n",
       "<title>cluster4subsystems</title>\n",
       "<polygon fill=\"none\" stroke=\"white\" points=\"16,-16 16,-138 329,-138 329,-16 16,-16\"/>\n",
       "</g>\n",
       "<!-- s4out -->\n",
       "<g id=\"node1\" class=\"node\">\n",
       "<title>s4out</title>\n",
       "<polygon fill=\"none\" stroke=\"green\" points=\"245.5,-30.75 245.5,-53.25 287.5,-53.25 287.5,-30.75 245.5,-30.75\"/>\n",
       "<text text-anchor=\"start\" x=\"248.5\" y=\"-36.95\" font-family=\"Times,serif\" font-size=\"14.00\">src_y0</text>\n",
       "</g>\n",
       "<!-- s2 -->\n",
       "<g id=\"node2\" class=\"node\">\n",
       "<title>s2</title>\n",
       "<polygon fill=\"none\" stroke=\"black\" points=\"32,-72 32,-106 168,-106 168,-72 32,-72\"/>\n",
       "<text text-anchor=\"start\" x=\"34.75\" y=\"-90.7\" font-family=\"Times,serif\" font-weight=\"bold\" font-size=\"14.00\">ConstantVectorSource</text>\n",
       "<text text-anchor=\"start\" x=\"73\" y=\"-76.7\" font-family=\"Times,serif\" font-size=\"14.00\">name=src</text>\n",
       "<polyline fill=\"none\" stroke=\"grey\" points=\"32,-72 32,-50 93,-50\"/>\n",
       "<polygon fill=\"none\" stroke=\"black\" points=\"93,-50 93,-72 168,-72 168,-50 93,-50\"/>\n",
       "<text text-anchor=\"start\" x=\"123.75\" y=\"-55.7\" font-family=\"Times,serif\" font-size=\"14.00\">y0</text>\n",
       "</g>\n",
       "<!-- s2&#45;&gt;s4out -->\n",
       "<g id=\"edge2\" class=\"edge\">\n",
       "<title>s2:e-&gt;s4out:w</title>\n",
       "<path fill=\"none\" stroke=\"green\" d=\"M169,-61C199.41,-61 207.96,-46.32 233.07,-42.77\"/>\n",
       "<polygon fill=\"green\" stroke=\"green\" points=\"233.25,-46.26 242.99,-42.1 232.78,-39.28 233.25,-46.26\"/>\n",
       "</g>\n",
       "<!-- s3 -->\n",
       "<g id=\"node3\" class=\"node\">\n",
       "<title>s3</title>\n",
       "<polygon fill=\"none\" stroke=\"black\" points=\"220,-104 220,-126 313,-126 313,-104 220,-104\"/>\n",
       "<text text-anchor=\"start\" x=\"223\" y=\"-110.7\" font-family=\"Times,serif\" font-weight=\"bold\" font-size=\"14.00\">VectorLogSink</text>\n",
       "<polygon fill=\"none\" stroke=\"black\" points=\"220,-82 220,-104 277,-104 277,-82 220,-82\"/>\n",
       "<text text-anchor=\"start\" x=\"237.25\" y=\"-87.7\" font-family=\"Times,serif\" font-size=\"14.00\">data</text>\n",
       "<polyline fill=\"none\" stroke=\"grey\" points=\"277,-82 313,-82 313,-104\"/>\n",
       "</g>\n",
       "<!-- s2&#45;&gt;s3 -->\n",
       "<g id=\"edge1\" class=\"edge\">\n",
       "<title>s2:e-&gt;s3:w</title>\n",
       "<path fill=\"none\" stroke=\"black\" d=\"M169,-61C190.69,-61 192.44,-82.95 207.27,-90.49\"/>\n",
       "<polygon fill=\"black\" stroke=\"black\" points=\"206.5,-93.9 217.02,-92.67 208.03,-87.07 206.5,-93.9\"/>\n",
       "</g>\n",
       "</g>\n",
       "</svg>"
      ],
      "text/plain": [
       "<IPython.core.display.SVG object>"
      ]
     },
     "metadata": {},
     "output_type": "display_data"
    }
   ],
   "source": [
    "#| hide\n",
    "#| eval: false\n",
    "sys = ConstantVectorSource([1,2])\n",
    "sys.set_name('src')\n",
    "dgm,logger = mk_log_diagram(sys, None, log_period=0.5)\n",
    "viz_diagram(dgm)"
   ]
  },
  {
   "cell_type": "code",
   "execution_count": null,
   "metadata": {},
   "outputs": [
    {
     "data": {
      "text/plain": [
       "(array([0. , 0.5, 1. ]),\n",
       " array([[1., 1., 1.],\n",
       "        [2., 2., 2.]]))"
      ]
     },
     "execution_count": null,
     "metadata": {},
     "output_type": "execute_result"
    }
   ],
   "source": [
    "#| hide\n",
    "#| eval: false\n",
    "sim = Simulator(dgm)\n",
    "sim.AdvanceTo(1)\n",
    "log = logger.FindLog(sim.get_context())\n",
    "log.sample_times(),log.data()"
   ]
  },
  {
   "cell_type": "code",
   "execution_count": null,
   "metadata": {},
   "outputs": [],
   "source": [
    "#| export\n",
    "class ParamsMixin():\n",
    "    \"Mixin to update parameters from their fields.\"\n",
    "    named_params = namedview('params', ())\n",
    "    _param_units = ()\n",
    "    _numeric_params = BasicVector([])\n",
    "    \n",
    "    def _update_params(self):\n",
    "        warnings.warn(\"Set custom values of parameters. Use only when initializing an instance.\")\n",
    "        params = self.named_params(self._numeric_params.get_mutable_value())\n",
    "        units  = self.named_params(self._param_units)\n",
    "        print('Press <space> <return> to skip. <q> <return> to skip to the end.')\n",
    "        print('----------------------------------------------')\n",
    "        for p,n in zip(params, params.get_fields()):\n",
    "            print(f\"Set value for {n+' ('+getattr(units, n)+')?':<20} current={p}\", end=\" \")\n",
    "            pi = input()\n",
    "            if pi == 'q': break\n",
    "            if pi != ' ':\n",
    "                try: setattr(params,n,float(pi))\n",
    "                except ValueError: raise ValueError('Invalid input, must be a number.')\n",
    "        print(f'\\nDone!')\n",
    "\n",
    "    @property\n",
    "    def params(self):\n",
    "        print(self.named_params(self._numeric_params.get_value()))"
   ]
  },
  {
   "cell_type": "code",
   "execution_count": null,
   "metadata": {},
   "outputs": [],
   "source": [
    "#| export\n",
    "def sample_ball(n_dim: int, r: float) -> np.ndarray:\n",
    "    \"\"\"\n",
    "    Uniformly sample from a `n_dim`-hyperball with a radius `r`.\n",
    "    \"\"\"\n",
    "    u = np.random.normal(0, 1, n_dim)\n",
    "    norm = np.linalg.norm(u)\n",
    "    r = np.random.rand()**(1.0 / n_dim) * r\n",
    "    return r * u / norm\n",
    "\n",
    "def sample_ellipsoid(n_dim: int, n_pt: int, A: np.ndarray=None, rho: float=1) -> np.ndarray:\n",
    "    \"\"\"\n",
    "    Sample `n_pt` states from a `n-dim` ellipsoid defined by \n",
    "    a positive-definite matrix `A` and the squared radius `rho`.\n",
    "    \"\"\"\n",
    "    if A is not None: assert np.shape(A)[0] == np.shape(A)[1] == n_dim\n",
    "    zs = np.vstack([sample_ball(n_dim, np.sqrt(rho)) for _ in range(n_pt)])\n",
    "    if A is None: return zs\n",
    "    return zs @ np.linalg.inv(np.linalg.cholesky(A))"
   ]
  },
  {
   "cell_type": "markdown",
   "metadata": {},
   "source": [
    "## System"
   ]
  },
  {
   "cell_type": "code",
   "execution_count": null,
   "metadata": {},
   "outputs": [],
   "source": [
    "#| export\n",
    "class Shift(LeafSystem):\n",
    "    \"Shift the input `u` by `y0`, i.e. `y = u + y0`.\"\n",
    "    def __init__(self, y0: Union[np.ndarray, list[float]], name: str=''):\n",
    "        super().__init__()\n",
    "        self.set_name(name)\n",
    "        self._y0 = np.asanyarray(y0)\n",
    "        self.size = len(y0)\n",
    "        self.DeclareVectorInputPort(name='u', size=self.size)\n",
    "        self.DeclareVectorOutputPort(name='y=u+y0', size=self.size, calc=self.calc_outp)\n",
    "    @property\n",
    "    def y0(self):\n",
    "        return self._y0\n",
    "    @y0.setter\n",
    "    def y0(self, val):\n",
    "        assert len(val) == self.size, f\"size must be {self.size}\"\n",
    "        self._y0 = np.asarray(val)\n",
    "    def calc_outp(self, ctx, outp):\n",
    "        inp = self.get_input_port(0).Eval(ctx)\n",
    "        outp.SetFromVector(inp + self.y0)"
   ]
  },
  {
   "cell_type": "code",
   "execution_count": null,
   "metadata": {},
   "outputs": [
    {
     "data": {
      "image/svg+xml": [
       "<svg xmlns=\"http://www.w3.org/2000/svg\" xmlns:xlink=\"http://www.w3.org/1999/xlink\" width=\"413pt\" height=\"238pt\" viewBox=\"0.00 0.00 412.50 238.00\">\n",
       "<g id=\"graph0\" class=\"graph\" transform=\"scale(1 1) rotate(0) translate(4 234)\">\n",
       "<title>_7</title>\n",
       "<polygon fill=\"white\" stroke=\"none\" points=\"-4,4 -4,-234 408.5,-234 408.5,4 -4,4\"/>\n",
       "<g id=\"clust1\" class=\"cluster\">\n",
       "<title>cluster7diagram</title>\n",
       "<polygon fill=\"none\" stroke=\"black\" points=\"8,-8 8,-222 396.5,-222 396.5,-8 8,-8\"/>\n",
       "<text text-anchor=\"start\" x=\"176.38\" y=\"-201.7\" font-family=\"Times,serif\" font-weight=\"bold\" font-size=\"14.00\">Diagram</text>\n",
       "</g>\n",
       "<g id=\"clust3\" class=\"cluster\">\n",
       "<title>clusters7out</title>\n",
       "<polygon fill=\"lightgrey\" stroke=\"lightgrey\" points=\"266.88,-104 266.88,-181 385.12,-181 385.12,-104 266.88,-104\"/>\n",
       "<text text-anchor=\"middle\" x=\"326\" y=\"-163.7\" font-family=\"Times,serif\" font-size=\"14.00\">output ports</text>\n",
       "</g>\n",
       "<g id=\"clust2\" class=\"cluster\">\n",
       "<title>clusters7in</title>\n",
       "<polygon fill=\"lightgrey\" stroke=\"lightgrey\" points=\"16,-16 16,-93 97.5,-93 97.5,-16 16,-16\"/>\n",
       "<text text-anchor=\"middle\" x=\"56.75\" y=\"-75.7\" font-family=\"Times,serif\" font-size=\"14.00\">input ports</text>\n",
       "</g>\n",
       "<g id=\"clust4\" class=\"cluster\">\n",
       "<title>cluster7subsystems</title>\n",
       "<polygon fill=\"none\" stroke=\"white\" points=\"117.5,-16 117.5,-96 388.5,-96 388.5,-16 117.5,-16\"/>\n",
       "</g>\n",
       "<!-- s7in -->\n",
       "<g id=\"node1\" class=\"node\">\n",
       "<title>s7in</title>\n",
       "<polygon fill=\"none\" stroke=\"blue\" points=\"35,-30.75 35,-53.25 78.5,-53.25 78.5,-30.75 35,-30.75\"/>\n",
       "<text text-anchor=\"start\" x=\"38\" y=\"-36.95\" font-family=\"Times,serif\" font-size=\"14.00\">shift_u</text>\n",
       "</g>\n",
       "<!-- s5 -->\n",
       "<g id=\"node3\" class=\"node\">\n",
       "<title>s5</title>\n",
       "<polygon fill=\"none\" stroke=\"black\" points=\"133.5,-50 133.5,-84 227.5,-84 227.5,-50 133.5,-50\"/>\n",
       "<text text-anchor=\"start\" x=\"136.25\" y=\"-68.7\" font-family=\"Times,serif\" font-weight=\"bold\" font-size=\"14.00\">__main__.Shift</text>\n",
       "<text text-anchor=\"start\" x=\"149.38\" y=\"-54.7\" font-family=\"Times,serif\" font-size=\"14.00\">name=shift</text>\n",
       "<polygon fill=\"none\" stroke=\"black\" points=\"133.5,-28 133.5,-50 161.5,-50 161.5,-28 133.5,-28\"/>\n",
       "<text text-anchor=\"start\" x=\"144.12\" y=\"-33.7\" font-family=\"Times,serif\" font-size=\"14.00\">u</text>\n",
       "<polygon fill=\"none\" stroke=\"black\" points=\"161.5,-28 161.5,-50 227.5,-50 227.5,-28 161.5,-28\"/>\n",
       "<text text-anchor=\"start\" x=\"172.75\" y=\"-33.7\" font-family=\"Times,serif\" font-size=\"14.00\">y=u+y0</text>\n",
       "</g>\n",
       "<!-- s7in&#45;&gt;s5 -->\n",
       "<g id=\"edge2\" class=\"edge\">\n",
       "<title>s7in:e-&gt;s5:w</title>\n",
       "<path fill=\"none\" stroke=\"blue\" d=\"M79.75,-42C99.01,-42 106.37,-39.98 121.35,-39.26\"/>\n",
       "<polygon fill=\"blue\" stroke=\"blue\" points=\"121.07,-42.76 130.99,-39.03 120.91,-35.77 121.07,-42.76\"/>\n",
       "</g>\n",
       "<!-- s7out -->\n",
       "<g id=\"node2\" class=\"node\">\n",
       "<title>s7out</title>\n",
       "<polygon fill=\"none\" stroke=\"green\" points=\"285.88,-118.75 285.88,-141.25 366.12,-141.25 366.12,-118.75 285.88,-118.75\"/>\n",
       "<text text-anchor=\"start\" x=\"288.88\" y=\"-124.95\" font-family=\"Times,serif\" font-size=\"14.00\">shift_y=u+y0</text>\n",
       "</g>\n",
       "<!-- s5&#45;&gt;s7out -->\n",
       "<g id=\"edge3\" class=\"edge\">\n",
       "<title>s5:e-&gt;s7out:w</title>\n",
       "<path fill=\"none\" stroke=\"green\" d=\"M228.5,-39C271.64,-39 243.89,-113.74 273.74,-127.75\"/>\n",
       "<polygon fill=\"green\" stroke=\"green\" points=\"273.02,-131.18 283.52,-129.7 274.4,-124.31 273.02,-131.18\"/>\n",
       "</g>\n",
       "<!-- s6 -->\n",
       "<g id=\"node4\" class=\"node\">\n",
       "<title>s6</title>\n",
       "<polygon fill=\"none\" stroke=\"black\" points=\"279.5,-50 279.5,-72 372.5,-72 372.5,-50 279.5,-50\"/>\n",
       "<text text-anchor=\"start\" x=\"282.5\" y=\"-56.7\" font-family=\"Times,serif\" font-weight=\"bold\" font-size=\"14.00\">VectorLogSink</text>\n",
       "<polygon fill=\"none\" stroke=\"black\" points=\"279.5,-28 279.5,-50 336.5,-50 336.5,-28 279.5,-28\"/>\n",
       "<text text-anchor=\"start\" x=\"296.75\" y=\"-33.7\" font-family=\"Times,serif\" font-size=\"14.00\">data</text>\n",
       "<polyline fill=\"none\" stroke=\"grey\" points=\"336.5,-28 372.5,-28 372.5,-50\"/>\n",
       "</g>\n",
       "<!-- s5&#45;&gt;s6 -->\n",
       "<g id=\"edge1\" class=\"edge\">\n",
       "<title>s5:e-&gt;s6:w</title>\n",
       "<path fill=\"none\" stroke=\"black\" d=\"M228.5,-39C246.2,-39 253.22,-39 266.75,-39\"/>\n",
       "<polygon fill=\"black\" stroke=\"black\" points=\"266.49,-42.5 276.49,-39 266.49,-35.5 266.49,-42.5\"/>\n",
       "</g>\n",
       "</g>\n",
       "</svg>"
      ],
      "text/plain": [
       "<IPython.core.display.SVG object>"
      ]
     },
     "metadata": {},
     "output_type": "display_data"
    }
   ],
   "source": [
    "#| hide\n",
    "#| eval: false\n",
    "dgm,logger = mk_log_diagram(Shift([1,2], 'shift'), log_period=0.2)\n",
    "viz_diagram(dgm)"
   ]
  },
  {
   "cell_type": "code",
   "execution_count": null,
   "metadata": {},
   "outputs": [
    {
     "data": {
      "text/plain": [
       "(array([0. , 0.2, 0.4, 0.6, 0.8, 1. ]),\n",
       " array([[1., 1., 1., 1., 1., 1.],\n",
       "        [3., 3., 3., 3., 3., 3.]]))"
      ]
     },
     "execution_count": null,
     "metadata": {},
     "output_type": "execute_result"
    }
   ],
   "source": [
    "#| hide\n",
    "#| eval: false\n",
    "ctx = dgm.CreateDefaultContext()\n",
    "dgm.get_input_port().FixValue(ctx,[0,1])\n",
    "sim = Simulator(dgm,ctx)\n",
    "sim.AdvanceTo(1)\n",
    "log = logger.FindLog(sim.get_context())\n",
    "log.sample_times(),log.data()"
   ]
  },
  {
   "cell_type": "code",
   "execution_count": null,
   "metadata": {},
   "outputs": [],
   "source": [
    "#| export\n",
    "class SimpleCSimBox():\n",
    "    \"A common place to store a `Diagram` built from a continuous `System`\\\n",
    "    with possible input shift and state output shift, a `Simulator`, a logger (`LogVectorOutput`).\"\n",
    "    def __init__(self,\n",
    "                 sys,                         # Assume it has only one input port and one _state_ output port.\n",
    "                 add_shift_inp: bool=False,   # True if there's a reference input.\n",
    "                 add_shift_state: bool=False, # True if there's a reference state.\n",
    "                 log_shift_inp: bool=False,   # Log the original (only valid when `inp_src` is provided) input or the shifted.\n",
    "                 log_shift_state: bool=False, # Log the original state or the shifted.\n",
    "                 log_period: float=0.,        # Frequency to log, per sec.\n",
    "                 inp_src=None,                # Input source\n",
    "                ):\n",
    "        self.sys = sys\n",
    "        self._register(add_shift_inp, add_shift_state, log_shift_inp, log_shift_state, log_period, inp_src)\n",
    "        self._is_init = False\n",
    "\n",
    "    def _register(self, add_shift_inp, add_shift_state, log_shift_inp, log_shift_state, log_period, inp_src):\n",
    "        _sys = [self.sys]\n",
    "        if add_shift_inp: self.shift_inp = Shift(np.zeros(self.sys.get_input_port().size()), 'shift_inp'); _sys.insert(0, self.shift_inp)\n",
    "        if add_shift_state: self.shift_state = Shift(np.zeros(self.sys.get_output_port().size()), 'shift_state'); _sys.append(self.shift_state)\n",
    "        # Builder: add systems\n",
    "        builder = DiagramBuilder()\n",
    "        for o in _sys: builder.AddSystem(o)\n",
    "        for o,i in zip(_sys[:-1], _sys[1:]): builder.Connect(o.get_output_port(), i.get_input_port())\n",
    "        if inp_src is not None:\n",
    "            builder.AddSystem(inp_src)\n",
    "            builder.Connect(inp_src.get_output_port(), _sys[0].get_input_port())\n",
    "            builder.ExportOutput(_sys[-1].get_output_port())\n",
    "        else:\n",
    "            builder.ExportInput(_sys[0].get_input_port())\n",
    "            builder.ExportOutput(_sys[-1].get_output_port())\n",
    "        self._inp_src = inp_src\n",
    "        # Loggers\n",
    "        if (self._inp_src is not None) and (not log_shift_inp):\n",
    "            _port = inp_src.get_output_port()\n",
    "            self.inp_logger = LogVectorOutput(_port, builder, log_period)\n",
    "        elif add_shift_inp and log_shift_inp:\n",
    "            _port = _sys[0].get_output_port()\n",
    "            self.inp_logger = LogVectorOutput(_port, builder, log_period)\n",
    "        \n",
    "        self.state_logger = LogVectorOutput(_sys[-1].get_output_port() if log_shift_state else self.sys.get_output_port(), builder, log_period)\n",
    "        # Diagram\n",
    "        self.dgm = builder.Build()\n",
    "    \n",
    "    def initialize(self, inp_val=None, state_val=None, ref_inp=None, ref_state=None, force_init=False):\n",
    "        \"Set reference input and state, if any. `FixValue` input port with `inp_val` if there is no `inp_src`.\"\n",
    "        if self._is_init and not force_init: return\n",
    "        # Set reference values\n",
    "        if ref_inp is not None and hasattr(self, 'shift_inp'): self.shift_inp.y0 = ref_inp\n",
    "        if ref_state is not None and hasattr(self, 'shift_state'): self.shift_state.y0 = -np.asarray(ref_state)\n",
    "        # Set initial state, fix input port\n",
    "        self.ctx = self.dgm.CreateDefaultContext()\n",
    "        if (inp_val is not None) and (self._inp_src is None): self.get_inp().FixValue(self.ctx, inp_val)\n",
    "        if state_val is not None: self.ctx.SetContinuousState(state_val)\n",
    "        self.sim = Simulator(self.dgm, self.ctx)\n",
    "        self._is_init = True\n",
    "    \n",
    "    def get_inp(self):\n",
    "        return self.dgm.get_input_port()\n",
    "\n",
    "    def get_outp(self):\n",
    "        return self.dgm.get_output_port()\n",
    "    \n",
    "    def clear_log(self):\n",
    "        self.inp_logger.FindMutableLog(self.sim.get_mutable_context()).Clear()\n",
    "        self.state_logger.FindMutableLog(self.sim.get_mutable_context()).Clear()\n",
    "\n",
    "    def get_inp_log_items(self):\n",
    "        if hasattr(self, 'inp_logger'):\n",
    "            log = self.inp_logger.FindLog(self.sim.get_context())\n",
    "            return log.sample_times(), log.data()\n",
    "        return\n",
    "\n",
    "    def get_state_log_items(self):\n",
    "        log = self.state_logger.FindLog(self.sim.get_context())\n",
    "        return log.sample_times(), log.data()\n",
    "\n",
    "    def extract_dyn(self):\n",
    "        \"Returns the (callable) dynamical equation `xdot = f(t,x,u)` \\\n",
    "        where `u` is the (possibly) shifted control input, `x` is the original state.\"\n",
    "        assert hasattr(self, 'ctx'), \"Initialize first to create a default context `ctx`.\"\n",
    "        assert self._inp_src is None, \"Expect the system has no `inp_src`.\"\n",
    "        ctx = self.ctx.Clone()\n",
    "        def _f(t,x,u):\n",
    "            ctx.SetContinuousState(x)\n",
    "            self.dgm.get_input_port(0).FixValue(ctx, u)\n",
    "            return self.dgm.EvalTimeDerivatives(ctx).get_vector().CopyToVector()\n",
    "        return _f\n",
    "\n",
    "    def plot_log(self, ax=None, figsize=(2,2), labels=None):\n",
    "        if ax is None: fig,ax = plt.subplots(figsize=figsize)\n",
    "        ts, vals = self.get_state_log_items()\n",
    "        if labels is not None: assert len(labels) == len(vals)\n",
    "        else: labels = [f'y[{i}]' for i in range(len(vals))]\n",
    "        colors = plt.get_cmap('rainbow')(np.linspace(0,1,len(vals)))\n",
    "        for i,val in enumerate(vals):\n",
    "            ax.plot(ts, val, 'x-', c=colors[i], label=labels[i])\n",
    "        ax.set_xlabel('t (sec)')\n",
    "        ax.legend(loc=1)\n",
    "                            "
   ]
  },
  {
   "cell_type": "code",
   "execution_count": null,
   "metadata": {},
   "outputs": [
    {
     "data": {
      "text/markdown": [
       "---\n",
       "\n",
       "[source](https://github.com/ts-flake/chemsim/blob/main/chemsim/core.py#L152){target=\"_blank\" style=\"float:right; font-size:smaller\"}\n",
       "\n",
       "### SimpleCSimBox.initialize\n",
       "\n",
       ">      SimpleCSimBox.initialize (inp_val=None, state_val=None, ref_inp=None,\n",
       ">                                ref_state=None, force_init=False)\n",
       "\n",
       "Set reference input and state, if any. `FixValue` input port with `inp_val` if there is no `inp_src`."
      ],
      "text/plain": [
       "---\n",
       "\n",
       "[source](https://github.com/ts-flake/chemsim/blob/main/chemsim/core.py#L152){target=\"_blank\" style=\"float:right; font-size:smaller\"}\n",
       "\n",
       "### SimpleCSimBox.initialize\n",
       "\n",
       ">      SimpleCSimBox.initialize (inp_val=None, state_val=None, ref_inp=None,\n",
       ">                                ref_state=None, force_init=False)\n",
       "\n",
       "Set reference input and state, if any. `FixValue` input port with `inp_val` if there is no `inp_src`."
      ]
     },
     "execution_count": null,
     "metadata": {},
     "output_type": "execute_result"
    }
   ],
   "source": [
    "show_doc(SimpleCSimBox.initialize)"
   ]
  },
  {
   "cell_type": "code",
   "execution_count": null,
   "metadata": {},
   "outputs": [
    {
     "data": {
      "text/markdown": [
       "---\n",
       "\n",
       "[source](https://github.com/ts-flake/chemsim/blob/main/chemsim/core.py#L185){target=\"_blank\" style=\"float:right; font-size:smaller\"}\n",
       "\n",
       "### SimpleCSimBox.extract_dyn\n",
       "\n",
       ">      SimpleCSimBox.extract_dyn ()\n",
       "\n",
       "Returns the (callable) dynamical equation `xdot = f(t,x,u)`         where `u` is the (possibly) shifted control input, `x` is the original state."
      ],
      "text/plain": [
       "---\n",
       "\n",
       "[source](https://github.com/ts-flake/chemsim/blob/main/chemsim/core.py#L185){target=\"_blank\" style=\"float:right; font-size:smaller\"}\n",
       "\n",
       "### SimpleCSimBox.extract_dyn\n",
       "\n",
       ">      SimpleCSimBox.extract_dyn ()\n",
       "\n",
       "Returns the (callable) dynamical equation `xdot = f(t,x,u)`         where `u` is the (possibly) shifted control input, `x` is the original state."
      ]
     },
     "execution_count": null,
     "metadata": {},
     "output_type": "execute_result"
    }
   ],
   "source": [
    "show_doc(SimpleCSimBox.extract_dyn)"
   ]
  },
  {
   "cell_type": "code",
   "execution_count": null,
   "metadata": {},
   "outputs": [],
   "source": [
    "# xdot = x - u\n",
    "#    y = x\n",
    "sys = AffineSystem(A=np.eye(2), B=-np.eye(2), C=np.eye(2)); sys.set_name('aff')\n",
    "tst = SimpleCSimBox(sys, True, True, True, True, 0.2)"
   ]
  },
  {
   "cell_type": "code",
   "execution_count": null,
   "metadata": {},
   "outputs": [
    {
     "data": {
      "image/svg+xml": [
       "<svg xmlns=\"http://www.w3.org/2000/svg\" xmlns:xlink=\"http://www.w3.org/1999/xlink\" width=\"757pt\" height=\"308pt\" viewBox=\"0.00 0.00 757.25 308.00\">\n",
       "<g id=\"graph0\" class=\"graph\" transform=\"scale(1 1) rotate(0) translate(4 304)\">\n",
       "<title>_13</title>\n",
       "<polygon fill=\"white\" stroke=\"none\" points=\"-4,4 -4,-304 753.25,-304 753.25,4 -4,4\"/>\n",
       "<g id=\"clust1\" class=\"cluster\">\n",
       "<title>cluster13diagram</title>\n",
       "<polygon fill=\"none\" stroke=\"black\" points=\"8,-8 8,-292 741.25,-292 741.25,-8 8,-8\"/>\n",
       "<text text-anchor=\"start\" x=\"348.75\" y=\"-271.7\" font-family=\"Times,serif\" font-weight=\"bold\" font-size=\"14.00\">Diagram</text>\n",
       "</g>\n",
       "<g id=\"clust3\" class=\"cluster\">\n",
       "<title>clusters13out</title>\n",
       "<polygon fill=\"lightgrey\" stroke=\"lightgrey\" points=\"583.5,-174 583.5,-251 733.25,-251 733.25,-174 583.5,-174\"/>\n",
       "<text text-anchor=\"middle\" x=\"658.38\" y=\"-233.7\" font-family=\"Times,serif\" font-size=\"14.00\">output ports</text>\n",
       "</g>\n",
       "<g id=\"clust2\" class=\"cluster\">\n",
       "<title>clusters13in</title>\n",
       "<polygon fill=\"lightgrey\" stroke=\"lightgrey\" points=\"16,-49 16,-126 121.5,-126 121.5,-49 16,-49\"/>\n",
       "<text text-anchor=\"middle\" x=\"68.75\" y=\"-108.7\" font-family=\"Times,serif\" font-size=\"14.00\">input ports</text>\n",
       "</g>\n",
       "<g id=\"clust4\" class=\"cluster\">\n",
       "<title>cluster13subsystems</title>\n",
       "<polygon fill=\"none\" stroke=\"white\" points=\"141.5,-16 141.5,-166 720.88,-166 720.88,-16 141.5,-16\"/>\n",
       "</g>\n",
       "<!-- s13in -->\n",
       "<g id=\"node1\" class=\"node\">\n",
       "<title>s13in</title>\n",
       "<polygon fill=\"none\" stroke=\"blue\" points=\"35,-63.75 35,-86.25 102.5,-86.25 102.5,-63.75 35,-63.75\"/>\n",
       "<text text-anchor=\"start\" x=\"38\" y=\"-69.95\" font-family=\"Times,serif\" font-size=\"14.00\">shift_inp_u</text>\n",
       "</g>\n",
       "<!-- s9 -->\n",
       "<g id=\"node3\" class=\"node\">\n",
       "<title>s9</title>\n",
       "<polygon fill=\"none\" stroke=\"black\" points=\"157.5,-86 157.5,-120 251.5,-120 251.5,-86 157.5,-86\"/>\n",
       "<text text-anchor=\"start\" x=\"160.25\" y=\"-104.7\" font-family=\"Times,serif\" font-weight=\"bold\" font-size=\"14.00\">__main__.Shift</text>\n",
       "<text text-anchor=\"start\" x=\"161.38\" y=\"-90.7\" font-family=\"Times,serif\" font-size=\"14.00\">name=shift_inp</text>\n",
       "<polygon fill=\"none\" stroke=\"black\" points=\"157.5,-64 157.5,-86 185.5,-86 185.5,-64 157.5,-64\"/>\n",
       "<text text-anchor=\"start\" x=\"168.12\" y=\"-69.7\" font-family=\"Times,serif\" font-size=\"14.00\">u</text>\n",
       "<polygon fill=\"none\" stroke=\"black\" points=\"185.5,-64 185.5,-86 251.5,-86 251.5,-64 185.5,-64\"/>\n",
       "<text text-anchor=\"start\" x=\"196.75\" y=\"-69.7\" font-family=\"Times,serif\" font-size=\"14.00\">y=u+y0</text>\n",
       "</g>\n",
       "<!-- s13in&#45;&gt;s9 -->\n",
       "<g id=\"edge5\" class=\"edge\">\n",
       "<title>s13in:e-&gt;s9:w</title>\n",
       "<path fill=\"none\" stroke=\"blue\" d=\"M103.75,-75C122.98,-75 130.38,-75 145.36,-75\"/>\n",
       "<polygon fill=\"blue\" stroke=\"blue\" points=\"144.99,-78.5 154.99,-75 144.99,-71.5 144.99,-78.5\"/>\n",
       "</g>\n",
       "<!-- s13out -->\n",
       "<g id=\"node2\" class=\"node\">\n",
       "<title>s13out</title>\n",
       "<polygon fill=\"none\" stroke=\"green\" points=\"602.5,-188.75 602.5,-211.25 714.25,-211.25 714.25,-188.75 602.5,-188.75\"/>\n",
       "<text text-anchor=\"start\" x=\"605.5\" y=\"-194.95\" font-family=\"Times,serif\" font-size=\"14.00\">shift_state_y=u+y0</text>\n",
       "</g>\n",
       "<!-- s8 -->\n",
       "<g id=\"node4\" class=\"node\">\n",
       "<title>s8</title>\n",
       "<polygon fill=\"none\" stroke=\"black\" points=\"308,-50 308,-84 392,-84 392,-50 308,-50\"/>\n",
       "<text text-anchor=\"start\" x=\"311\" y=\"-68.7\" font-family=\"Times,serif\" font-weight=\"bold\" font-size=\"14.00\">AffineSystem</text>\n",
       "<text text-anchor=\"start\" x=\"323.38\" y=\"-54.7\" font-family=\"Times,serif\" font-size=\"14.00\">name=aff</text>\n",
       "<polygon fill=\"none\" stroke=\"black\" points=\"308,-28 308,-50 350,-50 350,-28 308,-28\"/>\n",
       "<text text-anchor=\"start\" x=\"322.25\" y=\"-33.7\" font-family=\"Times,serif\" font-size=\"14.00\">u0</text>\n",
       "<polygon fill=\"none\" stroke=\"black\" points=\"350,-28 350,-50 392,-50 392,-28 350,-28\"/>\n",
       "<text text-anchor=\"start\" x=\"364.25\" y=\"-33.7\" font-family=\"Times,serif\" font-size=\"14.00\">y0</text>\n",
       "</g>\n",
       "<!-- s9&#45;&gt;s8 -->\n",
       "<g id=\"edge1\" class=\"edge\">\n",
       "<title>s9:e-&gt;s8:w</title>\n",
       "<path fill=\"none\" stroke=\"black\" d=\"M252.5,-75C277.22,-75 278.31,-48.89 296.01,-41.14\"/>\n",
       "<polygon fill=\"black\" stroke=\"black\" points=\"296.37,-44.64 305.51,-39.29 295.03,-37.77 296.37,-44.64\"/>\n",
       "</g>\n",
       "<!-- s11 -->\n",
       "<g id=\"node6\" class=\"node\">\n",
       "<title>s11</title>\n",
       "<polygon fill=\"none\" stroke=\"black\" points=\"303.5,-132 303.5,-154 396.5,-154 396.5,-132 303.5,-132\"/>\n",
       "<text text-anchor=\"start\" x=\"306.5\" y=\"-138.7\" font-family=\"Times,serif\" font-weight=\"bold\" font-size=\"14.00\">VectorLogSink</text>\n",
       "<polygon fill=\"none\" stroke=\"black\" points=\"303.5,-110 303.5,-132 360.5,-132 360.5,-110 303.5,-110\"/>\n",
       "<text text-anchor=\"start\" x=\"320.75\" y=\"-115.7\" font-family=\"Times,serif\" font-size=\"14.00\">data</text>\n",
       "<polyline fill=\"none\" stroke=\"grey\" points=\"360.5,-110 396.5,-110 396.5,-132\"/>\n",
       "</g>\n",
       "<!-- s9&#45;&gt;s11 -->\n",
       "<g id=\"edge3\" class=\"edge\">\n",
       "<title>s9:e-&gt;s11:w</title>\n",
       "<path fill=\"none\" stroke=\"black\" d=\"M252.5,-75C278.07,-75 274.21,-108.36 291.04,-118.26\"/>\n",
       "<polygon fill=\"black\" stroke=\"black\" points=\"289.98,-121.6 300.53,-120.63 291.68,-114.81 289.98,-121.6\"/>\n",
       "</g>\n",
       "<!-- s10 -->\n",
       "<g id=\"node5\" class=\"node\">\n",
       "<title>s10</title>\n",
       "<polygon fill=\"none\" stroke=\"black\" points=\"448.5,-85 448.5,-119 547.5,-119 547.5,-85 448.5,-85\"/>\n",
       "<text text-anchor=\"start\" x=\"453.75\" y=\"-103.7\" font-family=\"Times,serif\" font-weight=\"bold\" font-size=\"14.00\">__main__.Shift</text>\n",
       "<text text-anchor=\"start\" x=\"451.12\" y=\"-89.7\" font-family=\"Times,serif\" font-size=\"14.00\">name=shift_state</text>\n",
       "<polygon fill=\"none\" stroke=\"black\" points=\"448.5,-63 448.5,-85 479.5,-85 479.5,-63 448.5,-63\"/>\n",
       "<text text-anchor=\"start\" x=\"460.62\" y=\"-68.7\" font-family=\"Times,serif\" font-size=\"14.00\">u</text>\n",
       "<polygon fill=\"none\" stroke=\"black\" points=\"479.5,-63 479.5,-85 547.5,-85 547.5,-63 479.5,-63\"/>\n",
       "<text text-anchor=\"start\" x=\"491.75\" y=\"-68.7\" font-family=\"Times,serif\" font-size=\"14.00\">y=u+y0</text>\n",
       "</g>\n",
       "<!-- s8&#45;&gt;s10 -->\n",
       "<g id=\"edge2\" class=\"edge\">\n",
       "<title>s8:e-&gt;s10:w</title>\n",
       "<path fill=\"none\" stroke=\"black\" d=\"M393,-39C417.35,-39 418.65,-64.38 436.16,-71.92\"/>\n",
       "<polygon fill=\"black\" stroke=\"black\" points=\"435.03,-75.26 445.51,-73.71 436.35,-68.39 435.03,-75.26\"/>\n",
       "</g>\n",
       "<!-- s10&#45;&gt;s13out -->\n",
       "<g id=\"edge6\" class=\"edge\">\n",
       "<title>s10:e-&gt;s13out:w</title>\n",
       "<path fill=\"none\" stroke=\"green\" d=\"M549,-74C605.26,-74 550.01,-182.45 590.16,-198.12\"/>\n",
       "<polygon fill=\"green\" stroke=\"green\" points=\"589.44,-201.55 599.88,-199.75 590.6,-194.65 589.44,-201.55\"/>\n",
       "</g>\n",
       "<!-- s12 -->\n",
       "<g id=\"node7\" class=\"node\">\n",
       "<title>s12</title>\n",
       "<polygon fill=\"none\" stroke=\"black\" points=\"611.88,-85 611.88,-107 704.88,-107 704.88,-85 611.88,-85\"/>\n",
       "<text text-anchor=\"start\" x=\"614.88\" y=\"-91.7\" font-family=\"Times,serif\" font-weight=\"bold\" font-size=\"14.00\">VectorLogSink</text>\n",
       "<polygon fill=\"none\" stroke=\"black\" points=\"611.88,-63 611.88,-85 668.88,-85 668.88,-63 611.88,-63\"/>\n",
       "<text text-anchor=\"start\" x=\"629.12\" y=\"-68.7\" font-family=\"Times,serif\" font-size=\"14.00\">data</text>\n",
       "<polyline fill=\"none\" stroke=\"grey\" points=\"668.88,-63 704.88,-63 704.88,-85\"/>\n",
       "</g>\n",
       "<!-- s10&#45;&gt;s12 -->\n",
       "<g id=\"edge4\" class=\"edge\">\n",
       "<title>s10:e-&gt;s12:w</title>\n",
       "<path fill=\"none\" stroke=\"black\" d=\"M549,-74C572.02,-74 580.47,-74 598.93,-74\"/>\n",
       "<polygon fill=\"black\" stroke=\"black\" points=\"598.86,-77.5 608.86,-74 598.86,-70.5 598.86,-77.5\"/>\n",
       "</g>\n",
       "</g>\n",
       "</svg>"
      ],
      "text/plain": [
       "<IPython.core.display.SVG object>"
      ]
     },
     "metadata": {},
     "output_type": "display_data"
    }
   ],
   "source": [
    "#| eval: false\n",
    "viz_diagram(tst.dgm)"
   ]
  },
  {
   "cell_type": "code",
   "execution_count": null,
   "metadata": {},
   "outputs": [],
   "source": [
    "tst.initialize([0,0], [1,1], ref_inp=[0,1], ref_state=[-1,0], force_init=True)"
   ]
  },
  {
   "cell_type": "code",
   "execution_count": null,
   "metadata": {},
   "outputs": [
    {
     "data": {
      "image/png": "[encoded data removed]",
      "text/plain": [
       "<Figure size 200x200 with 1 Axes>"
      ]
     },
     "metadata": {},
     "output_type": "display_data"
    }
   ],
   "source": [
    "# tst.clear_log()\n",
    "tst.sim.AdvanceTo(2)\n",
    "tst.plot_log()"
   ]
  },
  {
   "cell_type": "markdown",
   "metadata": {},
   "source": [
    "## Source"
   ]
  },
  {
   "cell_type": "code",
   "execution_count": null,
   "metadata": {},
   "outputs": [],
   "source": [
    "#| export\n",
    "class BoxRandomSource(LeafSystem):\n",
    "    \"Uniform random source with box-contraints.\"\n",
    "    def __init__(self, n_dim, ub, lb, sampling_period=1., seed=None):\n",
    "        super().__init__()\n",
    "        assert len(ub) == len(lb) == n_dim\n",
    "        self.set_name('random_src')\n",
    "        # Uniform sampler\n",
    "        rng = np.random.default_rng(seed)\n",
    "        self.sampler = (lambda o=None: rng.random(n_dim) * np.subtract(ub, lb) + lb)\n",
    "        # Random discrete state\n",
    "        rs = self.DeclareDiscreteState(n_dim) \n",
    "        self.DeclareStateOutputPort('random_state', rs)\n",
    "        self.DeclarePeriodicDiscreteUpdateEvent(period_sec=sampling_period, offset_sec=sampling_period, update=self.update)\n",
    "        self.DeclareInitializationDiscreteUpdateEvent(update=self.init_update)\n",
    "\n",
    "    def update(self, ctx, outp):\n",
    "        outp.get_mutable_vector(0).set_value(self.sampler())\n",
    "\n",
    "    def init_update(self, ctx, outp):\n",
    "        outp.get_mutable_vector(0).set_value(self.sampler())"
   ]
  },
  {
   "cell_type": "code",
   "execution_count": null,
   "metadata": {},
   "outputs": [],
   "source": []
  },
  {
   "cell_type": "code",
   "execution_count": null,
   "metadata": {},
   "outputs": [],
   "source": [
    "#| hide\n",
    "import nbdev; nbdev.nbdev_export()"
   ]
  }
 ],
 "metadata": {
  "kernelspec": {
   "display_name": "python3",
   "language": "python",
   "name": "python3"
  }
 },
 "nbformat": 4,
 "nbformat_minor": 4
}
