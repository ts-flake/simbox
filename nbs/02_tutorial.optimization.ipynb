{
 "cells": [
  {
   "cell_type": "markdown",
   "id": "3182448b-45a0-4ca5-a6ef-6d094ac298d1",
   "metadata": {},
   "source": [
    "# Optimization\n",
    "> Using `pydrake` to setup optimization problems."
   ]
  },
  {
   "cell_type": "code",
   "execution_count": null,
   "id": "e7db8189-f1ef-4351-b28d-d8bb5fab4f94",
   "metadata": {},
   "outputs": [],
   "source": [
    "import numpy as np\n",
    "import matplotlib.pyplot as plt\n",
    "from pydrake.solvers import MathematicalProgram, IpoptSolver, Solve"
   ]
  },
  {
   "cell_type": "markdown",
   "id": "7c20ffae-9300-4a2e-8978-2bd27678c521",
   "metadata": {},
   "source": [
    "__refs__:\n",
    "\n",
    "- [mathematical_program|offical tutorial](https://deepnote.com/workspace/Drake-0b3b2c53-a7ad-441b-80f8-bf8350752305/project/Tutorials-2b4fc509-aef2-417d-a40d-6071dfed9199/notebook/mathematical_program-1bf36661e5964880a5a15374f5a4ae4c)\n",
    "- [pydrake doc](https://drake.mit.edu/pydrake/pydrake.solvers.html?highlight=solve#module-pydrake.solvers)"
   ]
  },
  {
   "cell_type": "markdown",
   "id": "74f915f5-6afb-4103-b0d9-6864dadb449c",
   "metadata": {},
   "source": [
    "## Mathematical program\n",
    "\n",
    "Generic _mathemaical program_ can be stated as \n",
    "$$\n",
    "\\boxed{\n",
    "\\begin{align}\n",
    "\\min_x\\ & f(x)\\\\\n",
    "\\text{s.t.}\\ & x\\in\\mathcal{S}\n",
    "\\end{align}\n",
    "}\n",
    "$$\n",
    "where $f(x)$ is an _objective function_, $x\\in\\mathbb{R}^n$ are _decision variables_ and $\\mathcal{S}\\subset\\mathbb{R}^n$ is a _constraint set_.\n",
    "\n",
    "`pydrake` supports multiple solvers for various categories of optimization problems. The `MathematicalProgram` class provides a common API to specify an optimization problem, e.g. objectives, constraints, and data structures, to avoid solver-specific codes (similar to YALMIP or JuMP in Julia).\n",
    "\n",
    "Problems solvable by `pydrake`:\n",
    "\n",
    "- Linear programming\n",
    "- Quadratic programming\n",
    "- Second-order cone programming\n",
    "- Nonlinear nonconvex programming\n",
    "- Semidefinite programming\n",
    "- Sum-of-squares programming\n",
    "- Mixed-integer programming (mixed-integer linear programming, mixed-integer quadratic programming, mixed-integer second-order cone programming).\n",
    "- Linear complementarity problem"
   ]
  },
  {
   "cell_type": "markdown",
   "id": "1cfc580e-b64f-46e2-bccd-a44fa01936c2",
   "metadata": {},
   "source": [
    "### Minimal examples"
   ]
  },
  {
   "cell_type": "code",
   "execution_count": null,
   "id": "6d6ecdba-bb9a-44bc-b2b1-e768cf09cfad",
   "metadata": {},
   "outputs": [],
   "source": [
    "# Set up the optimization problem\n",
    "prog = MathematicalProgram()\n",
    "# Decision variables\n",
    "x = prog.NewContinuousVariables(2)\n",
    "# Constraints\n",
    "prog.AddConstraint(x[0] + x[1] == 1)\n",
    "prog.AddConstraint(x[0] <= x[1])\n",
    "# Objective function\n",
    "prog.AddCost(x[0] **2 + x[1] ** 2)\n",
    "# Solve\n",
    "res = Solve(prog)"
   ]
  },
  {
   "cell_type": "code",
   "execution_count": null,
   "id": "0bf07376-f78f-4a42-8c26-3b70466fb501",
   "metadata": {},
   "outputs": [
    {
     "data": {
      "text/plain": [
       "('Clarabel',\n",
       " True,\n",
       " <SolutionResult.kSolutionFound: 0>,\n",
       " array([0.4999745, 0.5000255]),\n",
       " 0.5000000013010027)"
      ]
     },
     "execution_count": null,
     "metadata": {},
     "output_type": "execute_result"
    }
   ],
   "source": [
    "(res.get_solver_id().name(),\n",
    " res.is_success(),\n",
    " res.get_solution_result(),\n",
    " res.GetSolution(x),\n",
    " res.get_optimal_cost())"
   ]
  },
  {
   "cell_type": "markdown",
   "id": "016dbf11-b905-48f3-92b3-2896211d094d",
   "metadata": {},
   "source": [
    "`pydrake` will automatically chooses a _solver_ for us, for more info see [here](https://drake.mit.edu/doxygen_cxx/group__solvers.html). Also, note that in the example above we do not specify the _initial guess_, by default it is set to zeros. We can pick a solver and suggest an initial guess as shown below."
   ]
  },
  {
   "cell_type": "code",
   "execution_count": null,
   "id": "81c8e0b7-0912-4d2d-99e8-42beed4c7504",
   "metadata": {},
   "outputs": [
    {
     "data": {
      "text/plain": [
       "('IPOPT',\n",
       " True,\n",
       " <SolutionResult.kSolutionFound: 0>,\n",
       " array([0.4999965, 0.5000035]),\n",
       " 0.5000000000245315)"
      ]
     },
     "execution_count": null,
     "metadata": {},
     "output_type": "execute_result"
    }
   ],
   "source": [
    "# Use IPOPT solver\n",
    "solver = IpoptSolver()\n",
    "# Suggest an initial guess\n",
    "res = solver.Solve(prog, np.array([1, 1]))\n",
    "\n",
    "(res.get_solver_id().name(),\n",
    " res.is_success(),\n",
    " res.get_solution_result(),\n",
    " res.GetSolution(x),\n",
    " res.get_optimal_cost())"
   ]
  },
  {
   "cell_type": "markdown",
   "id": "ab923a80-85e3-4676-96d1-08078630bb95",
   "metadata": {},
   "source": [
    ":::{.callout-tip apparance='simple' title=Callback}\n",
    "Sometimes, it is usefull to see the intermediate values of the decision variables. We can use `.AddVisualizationCallback` to visualize/store/check those values.\n",
    ":::"
   ]
  },
  {
   "cell_type": "code",
   "execution_count": null,
   "id": "829e344e-82f8-4ee3-9119-8fbfb0c9a507",
   "metadata": {},
   "outputs": [
    {
     "data": {
      "text/plain": [
       "(array([3.00000077, 2.99999919]), 17.999999772313593)"
      ]
     },
     "execution_count": null,
     "metadata": {},
     "output_type": "execute_result"
    },
    {
     "data": {
      "image/png": "[encoded data removed]",
      "text/plain": [
       "<Figure size 200x200 with 1 Axes>"
      ]
     },
     "metadata": {},
     "output_type": "display_data"
    }
   ],
   "source": [
    "fig, ax = plt.subplots(figsize=(2,2))\n",
    "curve_x = np.linspace(1, 10, 100)\n",
    "ax.plot(curve_x, 9./curve_x, 'k')\n",
    "ax.plot(-curve_x, -9./curve_x, 'k')\n",
    "ax.plot(0, 0, 'rs')\n",
    "x0 = [4., 5.]\n",
    "ax.plot(*x0, 'C2s')\n",
    "\n",
    "def update(x):\n",
    "    ax.plot(x[0], x[1], 'C0x')\n",
    "\n",
    "# Find the closest point on a curve to the origin\n",
    "prog = MathematicalProgram()\n",
    "x = prog.NewContinuousVariables(2)\n",
    "prog.AddConstraint(x[0] * x[1] == 9)\n",
    "prog.AddCost(x[0]**2 + x[1]**2)\n",
    "prog.AddVisualizationCallback(update, x)\n",
    "res = Solve(prog, x0)\n",
    "(res.GetSolution(), res.get_optimal_cost())  # analytical best at (3,3) or (-3,-3)"
   ]
  },
  {
   "cell_type": "markdown",
   "id": "e1f5712b-b9f4-4c4d-b4de-23122e3456bd",
   "metadata": {},
   "source": [
    "## Double integrator MPC"
   ]
  },
  {
   "cell_type": "code",
   "execution_count": null,
   "id": "6b8e613b-5e8c-4e12-96d2-03f06e14ed21",
   "metadata": {},
   "outputs": [],
   "source": [
    "# Double integrator\n",
    "# xddot = u\n",
    "def _dyn(x, u):\n",
    "    return np.array([x[1], u])\n",
    "\n",
    "# Forward Euler\n",
    "def integrate(x, u, dt, t):\n",
    "    _t = 0\n",
    "    _x = x.copy()\n",
    "    while _t < t:\n",
    "        dx = _dyn(x, u)\n",
    "        _x = _x + dx * dt\n",
    "        _t += dt\n",
    "    return _x\n",
    "        \n",
    "def apply_ctrls(x, u, dt=0.01):\n",
    "    xs = [x.copy()]\n",
    "    for ui in u:\n",
    "        xs.append(integrate(xs[-1], ui, dt, 1.))\n",
    "    return np.array(xs)\n",
    "    \n",
    "def cost_fn(u):\n",
    "    xs = apply_ctrls(X, u)\n",
    "    return (xs**2).sum()"
   ]
  },
  {
   "cell_type": "code",
   "execution_count": null,
   "id": "f0c1cb60-baac-4715-ac72-44f6be86cf89",
   "metadata": {},
   "outputs": [],
   "source": [
    "def mpc_one_step(u0, noise, solver):\n",
    "    global X,U\n",
    "    if solver is not None:\n",
    "        res = solver.Solve(prog, u0)\n",
    "        if res.get_solver_details().status != 0: return None\n",
    "    else: \n",
    "        res = Solve(prog, u0, None)\n",
    "        if not res.is_success(): return None\n",
    "    U = res.GetSolution()\n",
    "    X = integrate(X, U[0], 0.01, 1.)\n",
    "    if noise is not None: X = X + np.random.randn(1) * noise\n",
    "    return X.copy(), U.copy()\n",
    "\n",
    "def mpc(n_step=10, noise=None, solver=None):\n",
    "    global X,U\n",
    "    xs,us = [X.copy()],[U.copy()]\n",
    "    for step in range(n_step):\n",
    "        res = mpc_one_step(U, noise, solver)\n",
    "        if res is None: print(f'Solver fails, stops at {step}.'); break\n",
    "        xs.append(res[0])\n",
    "        us.append(res[1])\n",
    "    return xs,us"
   ]
  },
  {
   "cell_type": "code",
   "execution_count": null,
   "id": "fd0d8bb7-1c5a-48f9-8c27-b2e8d58b14ad",
   "metadata": {},
   "outputs": [],
   "source": [
    "global X,U\n",
    "X = np.array([-2,0.])         # initial (pos, velo)\n",
    "U = np.zeros((n_horizen:=3))  # horizion\n",
    "\n",
    "prog = MathematicalProgram()\n",
    "u = prog.NewContinuousVariables(n_horizen, 'u')\n",
    "prog.AddBoundingBoxConstraint(-5,5,u)\n",
    "prog.AddCost(cost_fn, u)\n",
    "# Do MPC for `n_step` steps,\n",
    "# noise in observations, not in model\n",
    "trajs = mpc((n_step:=10), solver=IpoptSolver(), noise=0.5)"
   ]
  },
  {
   "cell_type": "code",
   "execution_count": null,
   "id": "9233a3c9-d3f9-4aba-8991-a3cef0920d76",
   "metadata": {},
   "outputs": [
    {
     "data": {
      "image/png": "[encoded data removed]",
      "text/plain": [
       "<Figure size 700x200 with 2 Axes>"
      ]
     },
     "metadata": {},
     "output_type": "display_data"
    }
   ],
   "source": [
    "#| echo: false\n",
    "fig,axs = plt.subplots(1,2,figsize=(7,2))\n",
    "colors = plt.get_cmap('tab20')(np.linspace(0,1,n_step+1))\n",
    "xs = [o[0] for o in trajs[0]]\n",
    "\n",
    "axs[0].plot(xs)\n",
    "axs[0].set_xlabel('t')\n",
    "axs[0].set_ylabel('x')\n",
    "\n",
    "for i,us in enumerate(trajs[1]):\n",
    "    axs[1].step(np.arange(n_horizen)+i, us, 'd-', c=colors[i], where='post')\n",
    "us = [o[0] for o in trajs[1]]\n",
    "axs[1].step(us, 'k--', where='post')\n",
    "axs[1].set_xlabel('t')\n",
    "axs[1].set_ylabel('u')\n",
    "fig.tight_layout()"
   ]
  },
  {
   "cell_type": "code",
   "execution_count": null,
   "id": "46b254ac-d648-4e6f-b8fb-b47628604190",
   "metadata": {},
   "outputs": [],
   "source": []
  },
  {
   "cell_type": "code",
   "execution_count": null,
   "id": "a0ba20ce-9891-4e05-8fd5-5af39afe2c0b",
   "metadata": {},
   "outputs": [],
   "source": []
  }
 ],
 "metadata": {
  "kernelspec": {
   "display_name": "python3",
   "language": "python",
   "name": "python3"
  }
 },
 "nbformat": 4,
 "nbformat_minor": 5
}
